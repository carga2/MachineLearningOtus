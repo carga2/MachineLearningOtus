{
 "cells": [
  {
   "cell_type": "code",
   "execution_count": 1,
   "id": "37566375",
   "metadata": {},
   "outputs": [],
   "source": [
    "import numpy as np\n",
    "import pandas as pd\n",
    "from sympy import symbols, solve\n",
    "import sympy\n",
    "import timeit"
   ]
  },
  {
   "cell_type": "code",
   "execution_count": null,
   "id": "30c7a0d3",
   "metadata": {},
   "outputs": [],
   "source": [
    "# Домашняя работа №4.1"
   ]
  },
  {
   "cell_type": "code",
   "execution_count": 2,
   "id": "36618ec2",
   "metadata": {},
   "outputs": [
    {
     "name": "stdout",
     "output_type": "stream",
     "text": [
      "AT = [[ 2  3 -1]\n",
      " [-4  5  0]]\n",
      "BT = [[ 1 -3  5]\n",
      " [ 2 -4  2]\n",
      " [ 7  0  1]]\n",
      "ATC = [[ 16 -22  19]\n",
      " [ -4 -13 -26]]\n",
      "D1 = [[  1 -18  15]\n",
      " [  6  -8 -10]]\n",
      "D = [[ 14  14 -11]\n",
      " [-16   3  -6]]\n"
     ]
    }
   ],
   "source": [
    "A = np.array([[2,-4],\n",
    "     [3,5],\n",
    "     [-1,0]])\n",
    "B = np.array([[1,2,7],\n",
    "     [-3,-4,0],\n",
    "     [5,2,1]])\n",
    "C = np.array([[6,-3,9],\n",
    "     [4,-5,2],\n",
    "     [8,1,5]])\n",
    "\n",
    "AT = A.transpose()\n",
    "BT = B.transpose()\n",
    "ATC = AT.dot(C)\n",
    "ATBT = AT.dot(BT)\n",
    "D = ATC - 2 * ATBT\n",
    "\n",
    "print(f\"AT = {AT}\")\n",
    "print(f\"BT = {BT}\")\n",
    "print(f\"ATC = {ATC}\")\n",
    "print(f\"D1 = {ATBT}\")\n",
    "print(f\"D = {D}\")"
   ]
  },
  {
   "cell_type": "code",
   "execution_count": null,
   "id": "236312b5",
   "metadata": {},
   "outputs": [],
   "source": [
    "# Домашняя работа №4.2"
   ]
  },
  {
   "cell_type": "code",
   "execution_count": 3,
   "id": "3f301f36",
   "metadata": {},
   "outputs": [
    {
     "name": "stdout",
     "output_type": "stream",
     "text": [
      "x = 2.0\n",
      "y = 6.0\n",
      "z = -4.0\n",
      "u = 10.0\n",
      "{x: 2, u: 10, y: 6, z: -4}\n",
      "time_a - 0.0009137\n",
      "time_b - 0.1097148\n"
     ]
    }
   ],
   "source": [
    "start_a = timeit.default_timer()\n",
    "A2 = np.array([[np.nan,2,3],[-1,np.nan,4]])\n",
    "B2 = np.array([[1,2,-5],[2,-6,np.nan]])\n",
    "C2 = np.array([[8,np.nan,-1],[1,6,4]])\n",
    "\n",
    "print(f\"x = {(C2-2*B2)[0,0]/3}\")\n",
    "print(f\"y = {(C2-2*B2)[1,1]/3}\")\n",
    "print(f\"z = {(C2-3*A2)[1,2]/2}\")\n",
    "print(f\"u = {(3*A2+2*B2)[0,1]}\")\n",
    "stop_a = timeit.default_timer()\n",
    "\n",
    "start_b = timeit.default_timer()\n",
    "x,y,z,u = symbols('x y z u')\n",
    "A=[[x,2,3],[-1,y,4]]\n",
    "B=[[1,2,-5],[2,-6,z]]\n",
    "C=[[8,u,-1],[1,6,4]]\n",
    "\n",
    "eq1 = 3*A[0][0] + 2*B[0][0] - C[0][0]\n",
    "eq2 = 3*A[0][1] + 2*B[0][1] - C[0][1]\n",
    "eq3 = 3*A[1][1] + 2*B[1][1] - C[1][1]\n",
    "eq4 = 3*A[1][2] + 2*B[1][2] - C[1][2]\n",
    "sol = solve((eq1, eq2, eq3, eq4), (x,y,z,u))\n",
    "\n",
    "print(sol)\n",
    "stop_b = timeit.default_timer()\n",
    "\n",
    "print(f\"time_a - {stop_a-start_a:.7f}\")\n",
    "print(f\"time_b - {stop_b-start_b:.7f}\")"
   ]
  },
  {
   "cell_type": "code",
   "execution_count": null,
   "id": "004086a9",
   "metadata": {},
   "outputs": [],
   "source": []
  }
 ],
 "metadata": {
  "kernelspec": {
   "display_name": "Python 3 (ipykernel)",
   "language": "python",
   "name": "python3"
  },
  "language_info": {
   "codemirror_mode": {
    "name": "ipython",
    "version": 3
   },
   "file_extension": ".py",
   "mimetype": "text/x-python",
   "name": "python",
   "nbconvert_exporter": "python",
   "pygments_lexer": "ipython3",
   "version": "3.9.13"
  }
 },
 "nbformat": 4,
 "nbformat_minor": 5
}
