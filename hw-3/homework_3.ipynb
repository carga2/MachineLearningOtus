{
 "cells": [
  {
   "cell_type": "markdown",
   "metadata": {},
   "source": [
    "# I. Numpy"
   ]
  },
  {
   "cell_type": "markdown",
   "metadata": {},
   "source": [
    "### Импортируйте NumPy"
   ]
  },
  {
   "cell_type": "code",
   "execution_count": 3,
   "metadata": {},
   "outputs": [],
   "source": [
    "import numpy as np\n",
    "import timeit"
   ]
  },
  {
   "cell_type": "markdown",
   "metadata": {},
   "source": [
    "### Создайте одномерный массив размера 10, заполненный нулями и пятым элемент равным 1. Трансформируйте в двумерный массив."
   ]
  },
  {
   "cell_type": "code",
   "execution_count": 4,
   "metadata": {},
   "outputs": [
    {
     "name": "stdout",
     "output_type": "stream",
     "text": [
      "[[0. 0. 0. 0. 1.]\n",
      " [0. 0. 0. 0. 0.]]\n"
     ]
    }
   ],
   "source": [
    "a = np.zeros(10)\n",
    "a[4] = 1\n",
    "a = a.reshape(2,5)\n",
    "print(a)"
   ]
  },
  {
   "cell_type": "markdown",
   "metadata": {},
   "source": [
    "### Создайте одномерный массив со значениями от 10 до 49 и разверните его (первый элемент становится последним). Найдите в нем все четные элементы."
   ]
  },
  {
   "cell_type": "code",
   "execution_count": 5,
   "metadata": {},
   "outputs": [
    {
     "name": "stdout",
     "output_type": "stream",
     "text": [
      "Massiv a \n",
      " [10 11 12 13 14 15 16 17 18 19 20 21 22 23 24 25 26 27 28 29 30 31 32 33\n",
      " 34 35 36 37 38 39 40 41 42 43 44 45 46 47 48 49]\n",
      "Massiv b \n",
      " [49 48 47 46 45 44 43 42 41 40 39 38 37 36 35 34 33 32 31 30 29 28 27 26\n",
      " 25 24 23 22 21 20 19 18 17 16 15 14 13 12 11 10]\n",
      "Massiv c \n",
      " [49 48 47 46 45 44 43 42 41 40 39 38 37 36 35 34 33 32 31 30 29 28 27 26\n",
      " 25 24 23 22 21 20 19 18 17 16 15 14 13 12 11 10]\n",
      "Chetnie \n",
      " [48 46 44 42 40 38 36 34 32 30 28 26 24 22 20 18 16 14 12 10]\n",
      "flip - 0.0000720\n",
      "reverse - 0.0000585\n"
     ]
    }
   ],
   "source": [
    "a = np.arange(10, 50)\n",
    "\n",
    "start_b = timeit.default_timer()\n",
    "b = np.flip(a.copy())\n",
    "stop_b = timeit.default_timer()\n",
    "\n",
    "start_c = timeit.default_timer()\n",
    "c = a[::-1].copy()\n",
    "stop_c = timeit.default_timer()\n",
    "\n",
    "print(f\"Massiv a \\n {a}\")\n",
    "print(f\"Massiv b \\n {b}\")\n",
    "print(f\"Massiv c \\n {c}\")\n",
    "\n",
    "print(f\"Chetnie \\n {b[b%2==0]}\")\n",
    "\n",
    "print(f\"flip - {stop_b-start_b:.7f}\")\n",
    "print(f\"reverse - {stop_c-start_c:.7f}\")"
   ]
  },
  {
   "cell_type": "markdown",
   "metadata": {},
   "source": [
    "### Создайте двумерный массив 3x3 со значениями от 0 до 8"
   ]
  },
  {
   "cell_type": "code",
   "execution_count": 6,
   "metadata": {},
   "outputs": [
    {
     "name": "stdout",
     "output_type": "stream",
     "text": [
      "[[0 1 2]\n",
      " [3 4 5]\n",
      " [6 7 8]]\n"
     ]
    }
   ],
   "source": [
    "a = np.arange(9).reshape(3,3)\n",
    "print(a)"
   ]
  },
  {
   "cell_type": "markdown",
   "metadata": {},
   "source": [
    "### Создайте массив 4x3x2 со случайными значениями. Найти его минимум и максимум."
   ]
  },
  {
   "cell_type": "code",
   "execution_count": 7,
   "metadata": {},
   "outputs": [
    {
     "name": "stdout",
     "output_type": "stream",
     "text": [
      "[[[ 4 85]\n",
      "  [56 11]\n",
      "  [ 8 95]]\n",
      "\n",
      " [[57 82]\n",
      "  [10 75]\n",
      "  [31 23]]\n",
      "\n",
      " [[87 67]\n",
      "  [10 41]\n",
      "  [97 47]]\n",
      "\n",
      " [[68 94]\n",
      "  [51 74]\n",
      "  [ 2 21]]]\n",
      "Minimum 2\n",
      "Maximum 97\n"
     ]
    }
   ],
   "source": [
    "a = np.random.randint(0, 100, size=(4,3,2))\n",
    "print(a)\n",
    "\n",
    "print(f\"Minimum {a.min()}\")\n",
    "print(f\"Maximum {a.max()}\")"
   ]
  },
  {
   "cell_type": "markdown",
   "metadata": {},
   "source": [
    "### Создайте два двумерных массива размерами 6x4 и 4x3 и произведите их матричное умножение. "
   ]
  },
  {
   "cell_type": "code",
   "execution_count": 8,
   "metadata": {},
   "outputs": [
    {
     "name": "stdout",
     "output_type": "stream",
     "text": [
      "Matmul multiplication \n",
      " [[ 8232  5024 10627]\n",
      " [13151 10083 15491]\n",
      " [ 7566  4739  6840]\n",
      " [10118  6242  9087]\n",
      " [ 6081  5413 12337]\n",
      " [12239  7213 12944]]\n",
      "Dot multiplication \n",
      " [[ 8232  5024 10627]\n",
      " [13151 10083 15491]\n",
      " [ 7566  4739  6840]\n",
      " [10118  6242  9087]\n",
      " [ 6081  5413 12337]\n",
      " [12239  7213 12944]]\n",
      "Matmul \n",
      " 0.0004467\n",
      "Dot \n",
      " 0.0001661\n"
     ]
    }
   ],
   "source": [
    "a = np.random.randint(0, 100, size=(6,4))\n",
    "b = np.random.randint(0, 100, size=(4,3))\n",
    "\n",
    "start_mm = timeit.default_timer()\n",
    "print(f\"Matmul multiplication \\n {np.matmul(a,b)}\")\n",
    "stop_mm = timeit.default_timer()\n",
    "\n",
    "start_dot = timeit.default_timer()\n",
    "print(f\"Dot multiplication \\n {np.dot(a,b)}\")\n",
    "stop_dot = timeit.default_timer()\n",
    "\n",
    "print(f\"Matmul \\n {stop_mm-start_mm:.7f}\")\n",
    "print(f\"Dot \\n {stop_dot-start_dot:.7f}\")"
   ]
  },
  {
   "cell_type": "markdown",
   "metadata": {},
   "source": [
    "### Создайте случайный двумерный массив 7x7, найти у него среднее и стандартное оклонение. Нормализуйте этот массив."
   ]
  },
  {
   "cell_type": "code",
   "execution_count": 16,
   "metadata": {},
   "outputs": [
    {
     "name": "stdout",
     "output_type": "stream",
     "text": [
      "[[84 33 97 39 60 15 64]\n",
      " [68 25 47 35 36 16 16]\n",
      " [77  7 59 56 69  0  6]\n",
      " [78 37 35 92 57 27 53]\n",
      " [74 34  0 76 11 60 52]\n",
      " [45 10 19  6 35 73 57]\n",
      " [17 31  7 42  2 14 24]]\n",
      "average - 40.3469387755102\n",
      "mean - 40.3469387755102\n",
      "std - 26.356698424753326\n",
      "nanstd - 26.356698424753326\n",
      "\n",
      "Speed:\n",
      "---------\n",
      "average \n",
      " 0.0001290\n",
      "mean \n",
      " 0.0000677\n",
      "std \n",
      " 0.0001166\n",
      "nanstd \n",
      " 0.0001763\n",
      "Normalized a \n",
      " [[0.24899958 0.09782126 0.28753523 0.11560695 0.17785684 0.04446421\n",
      "  0.18971397]\n",
      " [0.20157109 0.07410702 0.13932119 0.10374982 0.10671411 0.04742849\n",
      "  0.04742849]\n",
      " [0.22824961 0.02074996 0.17489256 0.16599972 0.20453537 0.\n",
      "  0.01778568]\n",
      " [0.2312139  0.10967839 0.10374982 0.27271383 0.168964   0.08003558\n",
      "  0.15710688]\n",
      " [0.21935677 0.10078554 0.         0.22528533 0.03260709 0.17785684\n",
      "  0.1541426 ]\n",
      " [0.13339263 0.02964281 0.05632133 0.01778568 0.10374982 0.21639249\n",
      "  0.168964  ]\n",
      " [0.05039277 0.0918927  0.02074996 0.12449979 0.00592856 0.04149993\n",
      "  0.07114274]]\n",
      "Normalized a \n",
      " [[ 1.65624163 -0.27875034  2.14947488 -0.05110423  0.74565717 -0.96168869\n",
      "   0.89742125]\n",
      " [ 1.04918533 -0.5822785   0.25242392 -0.20286831 -0.16492729 -0.92374767\n",
      "  -0.92374767]\n",
      " [ 1.3906545  -1.26521684  0.70771615  0.5938931   1.08712634 -1.53080398\n",
      "  -1.30315786]\n",
      " [ 1.42859552 -0.12698627 -0.20286831  1.95976979  0.63183412 -0.50639646\n",
      "   0.48007004]\n",
      " [ 1.27683144 -0.24080933 -1.53080398  1.35271348 -1.11345277  0.74565717\n",
      "   0.44212902]\n",
      " [ 0.17654189 -1.15139379 -0.80992461 -1.30315786 -0.20286831  1.23889042\n",
      "   0.63183412]\n",
      " [-0.88580665 -0.35463238 -1.26521684  0.06271883 -1.45492194 -0.99962971\n",
      "  -0.62021952]]\n"
     ]
    }
   ],
   "source": [
    "a = np.random.randint(0, 100, size=(7,7))\n",
    "print(a)\n",
    "\n",
    "start_average = timeit.default_timer()\n",
    "print(f\"average - {np.average(a)}\")\n",
    "stop_average = timeit.default_timer()\n",
    "\n",
    "start_mean = timeit.default_timer()\n",
    "print(f\"mean - {a.mean()}\")\n",
    "stop_mean = timeit.default_timer()\n",
    "\n",
    "start_std = timeit.default_timer()\n",
    "print(f\"std - {np.std(a)}\")\n",
    "stop_std = timeit.default_timer()\n",
    "\n",
    "start_nanstd = timeit.default_timer()\n",
    "print(f\"nanstd - {np.nanstd(a)}\")\n",
    "stop_nanstd = timeit.default_timer()\n",
    "\n",
    "print(\"\\nSpeed:\\n---------\")\n",
    "print(f\"average \\n {stop_average-start_average:.7f}\")\n",
    "print(f\"mean \\n {stop_mean-start_mean:.7f}\")\n",
    "\n",
    "print(f\"std \\n {stop_std-start_std:.7f}\")\n",
    "print(f\"nanstd \\n {stop_nanstd-start_nanstd:.7f}\")\n",
    "\n",
    "norm_a = np.linalg.norm(a)\n",
    "normalized_a = a/norm_a\n",
    "print(f\"Normalized a \\n {normalized_a}\")\n",
    "\n",
    "mean = a.mean()\n",
    "std = np.nanstd(a)\n",
    "normalized_matrix = (a - mean)/std\n",
    "print(f\"Normalized a \\n {normalized_matrix}\")"
   ]
  },
  {
   "cell_type": "markdown",
   "metadata": {},
   "source": [
    "# II. Pandas"
   ]
  },
  {
   "cell_type": "markdown",
   "metadata": {},
   "source": [
    "### Импортируйте: pandas, matplotlib, seaborn"
   ]
  },
  {
   "cell_type": "code",
   "execution_count": 71,
   "metadata": {},
   "outputs": [],
   "source": [
    "import matplotlib as mpl\n",
    "import pandas as pd \n",
    "import seaborn as sns"
   ]
  },
  {
   "cell_type": "markdown",
   "metadata": {},
   "source": [
    "### Загрузите датасет Tips из набора датасетов seaborn"
   ]
  },
  {
   "cell_type": "code",
   "execution_count": 72,
   "metadata": {},
   "outputs": [],
   "source": [
    "tips = sns.load_dataset('tips')"
   ]
  },
  {
   "cell_type": "markdown",
   "metadata": {},
   "source": [
    "### Посмотрите на первые 5 строчек"
   ]
  },
  {
   "cell_type": "code",
   "execution_count": 73,
   "metadata": {},
   "outputs": [
    {
     "data": {
      "text/html": [
       "<div>\n",
       "<style scoped>\n",
       "    .dataframe tbody tr th:only-of-type {\n",
       "        vertical-align: middle;\n",
       "    }\n",
       "\n",
       "    .dataframe tbody tr th {\n",
       "        vertical-align: top;\n",
       "    }\n",
       "\n",
       "    .dataframe thead th {\n",
       "        text-align: right;\n",
       "    }\n",
       "</style>\n",
       "<table border=\"1\" class=\"dataframe\">\n",
       "  <thead>\n",
       "    <tr style=\"text-align: right;\">\n",
       "      <th></th>\n",
       "      <th>total_bill</th>\n",
       "      <th>tip</th>\n",
       "      <th>sex</th>\n",
       "      <th>smoker</th>\n",
       "      <th>day</th>\n",
       "      <th>time</th>\n",
       "      <th>size</th>\n",
       "    </tr>\n",
       "  </thead>\n",
       "  <tbody>\n",
       "    <tr>\n",
       "      <th>0</th>\n",
       "      <td>16.99</td>\n",
       "      <td>1.01</td>\n",
       "      <td>Female</td>\n",
       "      <td>No</td>\n",
       "      <td>Sun</td>\n",
       "      <td>Dinner</td>\n",
       "      <td>2</td>\n",
       "    </tr>\n",
       "    <tr>\n",
       "      <th>1</th>\n",
       "      <td>10.34</td>\n",
       "      <td>1.66</td>\n",
       "      <td>Male</td>\n",
       "      <td>No</td>\n",
       "      <td>Sun</td>\n",
       "      <td>Dinner</td>\n",
       "      <td>3</td>\n",
       "    </tr>\n",
       "    <tr>\n",
       "      <th>2</th>\n",
       "      <td>21.01</td>\n",
       "      <td>3.50</td>\n",
       "      <td>Male</td>\n",
       "      <td>No</td>\n",
       "      <td>Sun</td>\n",
       "      <td>Dinner</td>\n",
       "      <td>3</td>\n",
       "    </tr>\n",
       "    <tr>\n",
       "      <th>3</th>\n",
       "      <td>23.68</td>\n",
       "      <td>3.31</td>\n",
       "      <td>Male</td>\n",
       "      <td>No</td>\n",
       "      <td>Sun</td>\n",
       "      <td>Dinner</td>\n",
       "      <td>2</td>\n",
       "    </tr>\n",
       "    <tr>\n",
       "      <th>4</th>\n",
       "      <td>24.59</td>\n",
       "      <td>3.61</td>\n",
       "      <td>Female</td>\n",
       "      <td>No</td>\n",
       "      <td>Sun</td>\n",
       "      <td>Dinner</td>\n",
       "      <td>4</td>\n",
       "    </tr>\n",
       "  </tbody>\n",
       "</table>\n",
       "</div>"
      ],
      "text/plain": [
       "   total_bill   tip     sex smoker  day    time  size\n",
       "0       16.99  1.01  Female     No  Sun  Dinner     2\n",
       "1       10.34  1.66    Male     No  Sun  Dinner     3\n",
       "2       21.01  3.50    Male     No  Sun  Dinner     3\n",
       "3       23.68  3.31    Male     No  Sun  Dinner     2\n",
       "4       24.59  3.61  Female     No  Sun  Dinner     4"
      ]
     },
     "execution_count": 73,
     "metadata": {},
     "output_type": "execute_result"
    }
   ],
   "source": [
    "tips.head()"
   ]
  },
  {
   "cell_type": "markdown",
   "metadata": {},
   "source": [
    "### Узнайте сколько всего строчек и колонок в данных"
   ]
  },
  {
   "cell_type": "code",
   "execution_count": 74,
   "metadata": {},
   "outputs": [
    {
     "name": "stdout",
     "output_type": "stream",
     "text": [
      "(244, 7)\n"
     ]
    }
   ],
   "source": [
    "print(tips.shape)"
   ]
  },
  {
   "cell_type": "markdown",
   "metadata": {},
   "source": [
    "### Проверьте есть ли пропуски в данных"
   ]
  },
  {
   "cell_type": "code",
   "execution_count": 77,
   "metadata": {},
   "outputs": [
    {
     "data": {
      "text/plain": [
       "total_bill    0\n",
       "tip           0\n",
       "sex           0\n",
       "smoker        0\n",
       "day           0\n",
       "time          0\n",
       "size          0\n",
       "dtype: int64"
      ]
     },
     "execution_count": 77,
     "metadata": {},
     "output_type": "execute_result"
    }
   ],
   "source": [
    "tips.isnull().sum()"
   ]
  },
  {
   "cell_type": "markdown",
   "metadata": {},
   "source": [
    "### Посмотрите на распределение числовых признаков"
   ]
  },
  {
   "cell_type": "code",
   "execution_count": 78,
   "metadata": {},
   "outputs": [
    {
     "data": {
      "text/html": [
       "<div>\n",
       "<style scoped>\n",
       "    .dataframe tbody tr th:only-of-type {\n",
       "        vertical-align: middle;\n",
       "    }\n",
       "\n",
       "    .dataframe tbody tr th {\n",
       "        vertical-align: top;\n",
       "    }\n",
       "\n",
       "    .dataframe thead th {\n",
       "        text-align: right;\n",
       "    }\n",
       "</style>\n",
       "<table border=\"1\" class=\"dataframe\">\n",
       "  <thead>\n",
       "    <tr style=\"text-align: right;\">\n",
       "      <th></th>\n",
       "      <th>total_bill</th>\n",
       "      <th>tip</th>\n",
       "      <th>size</th>\n",
       "    </tr>\n",
       "  </thead>\n",
       "  <tbody>\n",
       "    <tr>\n",
       "      <th>count</th>\n",
       "      <td>244.000000</td>\n",
       "      <td>244.000000</td>\n",
       "      <td>244.000000</td>\n",
       "    </tr>\n",
       "    <tr>\n",
       "      <th>mean</th>\n",
       "      <td>19.785943</td>\n",
       "      <td>2.998279</td>\n",
       "      <td>2.569672</td>\n",
       "    </tr>\n",
       "    <tr>\n",
       "      <th>std</th>\n",
       "      <td>8.902412</td>\n",
       "      <td>1.383638</td>\n",
       "      <td>0.951100</td>\n",
       "    </tr>\n",
       "    <tr>\n",
       "      <th>min</th>\n",
       "      <td>3.070000</td>\n",
       "      <td>1.000000</td>\n",
       "      <td>1.000000</td>\n",
       "    </tr>\n",
       "    <tr>\n",
       "      <th>25%</th>\n",
       "      <td>13.347500</td>\n",
       "      <td>2.000000</td>\n",
       "      <td>2.000000</td>\n",
       "    </tr>\n",
       "    <tr>\n",
       "      <th>50%</th>\n",
       "      <td>17.795000</td>\n",
       "      <td>2.900000</td>\n",
       "      <td>2.000000</td>\n",
       "    </tr>\n",
       "    <tr>\n",
       "      <th>75%</th>\n",
       "      <td>24.127500</td>\n",
       "      <td>3.562500</td>\n",
       "      <td>3.000000</td>\n",
       "    </tr>\n",
       "    <tr>\n",
       "      <th>max</th>\n",
       "      <td>50.810000</td>\n",
       "      <td>10.000000</td>\n",
       "      <td>6.000000</td>\n",
       "    </tr>\n",
       "  </tbody>\n",
       "</table>\n",
       "</div>"
      ],
      "text/plain": [
       "       total_bill         tip        size\n",
       "count  244.000000  244.000000  244.000000\n",
       "mean    19.785943    2.998279    2.569672\n",
       "std      8.902412    1.383638    0.951100\n",
       "min      3.070000    1.000000    1.000000\n",
       "25%     13.347500    2.000000    2.000000\n",
       "50%     17.795000    2.900000    2.000000\n",
       "75%     24.127500    3.562500    3.000000\n",
       "max     50.810000   10.000000    6.000000"
      ]
     },
     "execution_count": 78,
     "metadata": {},
     "output_type": "execute_result"
    }
   ],
   "source": [
    "tips.describe()"
   ]
  },
  {
   "cell_type": "markdown",
   "metadata": {},
   "source": [
    "### Найдите максимальное значение 'total_bill'"
   ]
  },
  {
   "cell_type": "code",
   "execution_count": 79,
   "metadata": {},
   "outputs": [
    {
     "data": {
      "text/plain": [
       "50.81"
      ]
     },
     "execution_count": 79,
     "metadata": {},
     "output_type": "execute_result"
    }
   ],
   "source": [
    "tips[\"total_bill\"].max()"
   ]
  },
  {
   "cell_type": "markdown",
   "metadata": {},
   "source": [
    "### Найдите количество курящих людей"
   ]
  },
  {
   "cell_type": "code",
   "execution_count": 90,
   "metadata": {},
   "outputs": [
    {
     "name": "stdout",
     "output_type": "stream",
     "text": [
      "93\n",
      "93\n",
      "average \n",
      " 0.0054857\n",
      "average \n",
      " 0.0004150\n"
     ]
    }
   ],
   "source": [
    "start_shape = timeit.default_timer()\n",
    "print(tips[tips['smoker']==\"Yes\"].shape[0])\n",
    "stop_shape = timeit.default_timer()\n",
    "\n",
    "start_sum = timeit.default_timer()\n",
    "print((tips[\"smoker\"]==\"Yes\").sum())\n",
    "stop_sum = timeit.default_timer()\n",
    "\n",
    "print(f\"average \\n {stop_shape-start_shape:.7f}\")\n",
    "print(f\"average \\n {stop_sum-start_sum:.7f}\")"
   ]
  },
  {
   "cell_type": "markdown",
   "metadata": {},
   "source": [
    "### Узнайте какой средний 'total_bill' в зависимости от 'day'"
   ]
  },
  {
   "cell_type": "code",
   "execution_count": 94,
   "metadata": {},
   "outputs": [
    {
     "data": {
      "text/plain": [
       "day\n",
       "Thur    17.682742\n",
       "Fri     17.151579\n",
       "Sat     20.441379\n",
       "Sun     21.410000\n",
       "Name: total_bill, dtype: float64"
      ]
     },
     "execution_count": 94,
     "metadata": {},
     "output_type": "execute_result"
    }
   ],
   "source": [
    "tips.groupby('day').total_bill.mean()"
   ]
  },
  {
   "cell_type": "markdown",
   "metadata": {},
   "source": [
    "### Отберите строчки с 'total_bill' больше медианы и узнайте какой средний 'tip' в зависимости от 'sex'"
   ]
  },
  {
   "cell_type": "code",
   "execution_count": 99,
   "metadata": {},
   "outputs": [
    {
     "data": {
      "text/plain": [
       "sex\n",
       "Male      3.756404\n",
       "Female    3.663939\n",
       "Name: tip, dtype: float64"
      ]
     },
     "execution_count": 99,
     "metadata": {},
     "output_type": "execute_result"
    }
   ],
   "source": [
    "median = tips.total_bill.median()\n",
    "tips[tips.total_bill>median].groupby('sex').tip.mean()"
   ]
  },
  {
   "cell_type": "markdown",
   "metadata": {},
   "source": [
    "### Преобразуйте признак 'smoker' в бинарный (0-No, 1-Yes)"
   ]
  },
  {
   "cell_type": "code",
   "execution_count": 186,
   "metadata": {},
   "outputs": [
    {
     "name": "stdout",
     "output_type": "stream",
     "text": [
      "\n",
      "Speed:\n",
      "---------\n",
      "where \n",
      " 0.0005780\n",
      "dummies \n",
      " 0.0149361\n",
      "map \n",
      " 0.0097839\n",
      "     total_bill   tip     sex  smoker   day    time  size\n",
      "0         16.99  1.01  Female       0   Sun  Dinner     2\n",
      "1         10.34  1.66    Male       0   Sun  Dinner     3\n",
      "2         21.01  3.50    Male       0   Sun  Dinner     3\n",
      "3         23.68  3.31    Male       0   Sun  Dinner     2\n",
      "4         24.59  3.61  Female       0   Sun  Dinner     4\n",
      "..          ...   ...     ...     ...   ...     ...   ...\n",
      "239       29.03  5.92    Male       0   Sat  Dinner     3\n",
      "240       27.18  2.00  Female       1   Sat  Dinner     2\n",
      "241       22.67  2.00    Male       1   Sat  Dinner     2\n",
      "242       17.82  1.75    Male       0   Sat  Dinner     2\n",
      "243       18.78  3.00  Female       0  Thur  Dinner     2\n",
      "\n",
      "[244 rows x 7 columns]\n",
      "     total_bill   tip     sex   day    time  size  smoker\n",
      "0         16.99  1.01  Female   Sun  Dinner     2       0\n",
      "1         10.34  1.66    Male   Sun  Dinner     3       0\n",
      "2         21.01  3.50    Male   Sun  Dinner     3       0\n",
      "3         23.68  3.31    Male   Sun  Dinner     2       0\n",
      "4         24.59  3.61  Female   Sun  Dinner     4       0\n",
      "..          ...   ...     ...   ...     ...   ...     ...\n",
      "239       29.03  5.92    Male   Sat  Dinner     3       0\n",
      "240       27.18  2.00  Female   Sat  Dinner     2       1\n",
      "241       22.67  2.00    Male   Sat  Dinner     2       1\n",
      "242       17.82  1.75    Male   Sat  Dinner     2       0\n",
      "243       18.78  3.00  Female  Thur  Dinner     2       0\n",
      "\n",
      "[244 rows x 7 columns]\n"
     ]
    },
    {
     "data": {
      "text/html": [
       "<div>\n",
       "<style scoped>\n",
       "    .dataframe tbody tr th:only-of-type {\n",
       "        vertical-align: middle;\n",
       "    }\n",
       "\n",
       "    .dataframe tbody tr th {\n",
       "        vertical-align: top;\n",
       "    }\n",
       "\n",
       "    .dataframe thead th {\n",
       "        text-align: right;\n",
       "    }\n",
       "</style>\n",
       "<table border=\"1\" class=\"dataframe\">\n",
       "  <thead>\n",
       "    <tr style=\"text-align: right;\">\n",
       "      <th></th>\n",
       "      <th>total_bill</th>\n",
       "      <th>tip</th>\n",
       "      <th>sex</th>\n",
       "      <th>smoker</th>\n",
       "      <th>day</th>\n",
       "      <th>time</th>\n",
       "      <th>size</th>\n",
       "    </tr>\n",
       "  </thead>\n",
       "  <tbody>\n",
       "    <tr>\n",
       "      <th>0</th>\n",
       "      <td>16.99</td>\n",
       "      <td>1.01</td>\n",
       "      <td>Female</td>\n",
       "      <td>0</td>\n",
       "      <td>Sun</td>\n",
       "      <td>Dinner</td>\n",
       "      <td>2</td>\n",
       "    </tr>\n",
       "    <tr>\n",
       "      <th>1</th>\n",
       "      <td>10.34</td>\n",
       "      <td>1.66</td>\n",
       "      <td>Male</td>\n",
       "      <td>0</td>\n",
       "      <td>Sun</td>\n",
       "      <td>Dinner</td>\n",
       "      <td>3</td>\n",
       "    </tr>\n",
       "    <tr>\n",
       "      <th>2</th>\n",
       "      <td>21.01</td>\n",
       "      <td>3.50</td>\n",
       "      <td>Male</td>\n",
       "      <td>0</td>\n",
       "      <td>Sun</td>\n",
       "      <td>Dinner</td>\n",
       "      <td>3</td>\n",
       "    </tr>\n",
       "    <tr>\n",
       "      <th>3</th>\n",
       "      <td>23.68</td>\n",
       "      <td>3.31</td>\n",
       "      <td>Male</td>\n",
       "      <td>0</td>\n",
       "      <td>Sun</td>\n",
       "      <td>Dinner</td>\n",
       "      <td>2</td>\n",
       "    </tr>\n",
       "    <tr>\n",
       "      <th>4</th>\n",
       "      <td>24.59</td>\n",
       "      <td>3.61</td>\n",
       "      <td>Female</td>\n",
       "      <td>0</td>\n",
       "      <td>Sun</td>\n",
       "      <td>Dinner</td>\n",
       "      <td>4</td>\n",
       "    </tr>\n",
       "    <tr>\n",
       "      <th>...</th>\n",
       "      <td>...</td>\n",
       "      <td>...</td>\n",
       "      <td>...</td>\n",
       "      <td>...</td>\n",
       "      <td>...</td>\n",
       "      <td>...</td>\n",
       "      <td>...</td>\n",
       "    </tr>\n",
       "    <tr>\n",
       "      <th>239</th>\n",
       "      <td>29.03</td>\n",
       "      <td>5.92</td>\n",
       "      <td>Male</td>\n",
       "      <td>0</td>\n",
       "      <td>Sat</td>\n",
       "      <td>Dinner</td>\n",
       "      <td>3</td>\n",
       "    </tr>\n",
       "    <tr>\n",
       "      <th>240</th>\n",
       "      <td>27.18</td>\n",
       "      <td>2.00</td>\n",
       "      <td>Female</td>\n",
       "      <td>1</td>\n",
       "      <td>Sat</td>\n",
       "      <td>Dinner</td>\n",
       "      <td>2</td>\n",
       "    </tr>\n",
       "    <tr>\n",
       "      <th>241</th>\n",
       "      <td>22.67</td>\n",
       "      <td>2.00</td>\n",
       "      <td>Male</td>\n",
       "      <td>1</td>\n",
       "      <td>Sat</td>\n",
       "      <td>Dinner</td>\n",
       "      <td>2</td>\n",
       "    </tr>\n",
       "    <tr>\n",
       "      <th>242</th>\n",
       "      <td>17.82</td>\n",
       "      <td>1.75</td>\n",
       "      <td>Male</td>\n",
       "      <td>0</td>\n",
       "      <td>Sat</td>\n",
       "      <td>Dinner</td>\n",
       "      <td>2</td>\n",
       "    </tr>\n",
       "    <tr>\n",
       "      <th>243</th>\n",
       "      <td>18.78</td>\n",
       "      <td>3.00</td>\n",
       "      <td>Female</td>\n",
       "      <td>0</td>\n",
       "      <td>Thur</td>\n",
       "      <td>Dinner</td>\n",
       "      <td>2</td>\n",
       "    </tr>\n",
       "  </tbody>\n",
       "</table>\n",
       "<p>244 rows × 7 columns</p>\n",
       "</div>"
      ],
      "text/plain": [
       "     total_bill   tip     sex smoker   day    time  size\n",
       "0         16.99  1.01  Female      0   Sun  Dinner     2\n",
       "1         10.34  1.66    Male      0   Sun  Dinner     3\n",
       "2         21.01  3.50    Male      0   Sun  Dinner     3\n",
       "3         23.68  3.31    Male      0   Sun  Dinner     2\n",
       "4         24.59  3.61  Female      0   Sun  Dinner     4\n",
       "..          ...   ...     ...    ...   ...     ...   ...\n",
       "239       29.03  5.92    Male      0   Sat  Dinner     3\n",
       "240       27.18  2.00  Female      1   Sat  Dinner     2\n",
       "241       22.67  2.00    Male      1   Sat  Dinner     2\n",
       "242       17.82  1.75    Male      0   Sat  Dinner     2\n",
       "243       18.78  3.00  Female      0  Thur  Dinner     2\n",
       "\n",
       "[244 rows x 7 columns]"
      ]
     },
     "execution_count": 186,
     "metadata": {},
     "output_type": "execute_result"
    }
   ],
   "source": [
    "tips0 = sns.load_dataset('tips')\n",
    "start_where = timeit.default_timer()\n",
    "tips0[\"smoker\"] = np.where(tips0[\"smoker\"] == \"Yes\", 1 ,0) \n",
    "stop_where = timeit.default_timer()\n",
    "\n",
    "tips1 = sns.load_dataset('tips')\n",
    "start_dum = timeit.default_timer()\n",
    "smoker_dummies = pd.get_dummies(tips1[\"smoker\"], prefix=\"smoker\")\n",
    "tips1 = pd.concat([tips1, smoker_dummies['smoker_Yes']], axis=1)\n",
    "tips1.drop(\"smoker\", axis=1, inplace=True)\n",
    "tips1.columns = tips1.columns.str.replace(\"smoker_Yes\", \"smoker\")\n",
    "stop_dum = timeit.default_timer()\n",
    "\n",
    "tips2 = sns.load_dataset('tips')\n",
    "start_map = timeit.default_timer()\n",
    "smoker_map = {'No': 0, 'Yes': 1}\n",
    "tips2['smoker'] = tips2['smoker'].map(smoker_map)\n",
    "stop_map = timeit.default_timer()\n",
    "\n",
    "print(\"\\nSpeed:\\n---------\")\n",
    "print(f\"where \\n {stop_where-start_where:.7f}\")\n",
    "print(f\"dummies \\n {stop_dum-start_dum:.7f}\")\n",
    "print(f\"map \\n {stop_map-start_map:.7f}\")\n",
    "\n",
    "print(tips0)\n",
    "print(tips1)\n",
    "tips2"
   ]
  },
  {
   "cell_type": "markdown",
   "metadata": {},
   "source": [
    "# III. Visualization"
   ]
  },
  {
   "cell_type": "markdown",
   "metadata": {},
   "source": [
    "### Постройте гистограмму распределения признака 'total_bill'"
   ]
  },
  {
   "cell_type": "code",
   "execution_count": 135,
   "metadata": {},
   "outputs": [
    {
     "data": {
      "text/plain": [
       "<AxesSubplot:xlabel='total_bill', ylabel='Count'>"
      ]
     },
     "execution_count": 135,
     "metadata": {},
     "output_type": "execute_result"
    },
    {
     "data": {
      "image/png": "[encoded data removed]",
      "text/plain": [
       "<Figure size 640x480 with 1 Axes>"
      ]
     },
     "metadata": {},
     "output_type": "display_data"
    }
   ],
   "source": [
    "tips = sns.load_dataset('tips')\n",
    "sns.histplot(tips['total_bill'])"
   ]
  },
  {
   "cell_type": "markdown",
   "metadata": {},
   "source": [
    "### Постройте scatterplot, представляющий взаимосвязь между признаками 'total_bill' и 'tip'"
   ]
  },
  {
   "cell_type": "code",
   "execution_count": 136,
   "metadata": {},
   "outputs": [
    {
     "data": {
      "text/plain": [
       "<AxesSubplot:xlabel='total_bill', ylabel='tip'>"
      ]
     },
     "execution_count": 136,
     "metadata": {},
     "output_type": "execute_result"
    },
    {
     "data": {
      "image/png": "[encoded data removed]",
      "text/plain": [
       "<Figure size 640x480 with 1 Axes>"
      ]
     },
     "metadata": {},
     "output_type": "display_data"
    }
   ],
   "source": [
    "tips.plot.scatter(x = 'total_bill', y = 'tip')"
   ]
  },
  {
   "cell_type": "markdown",
   "metadata": {},
   "source": [
    "### Постройте pairplot"
   ]
  },
  {
   "cell_type": "code",
   "execution_count": 138,
   "metadata": {},
   "outputs": [
    {
     "data": {
      "text/plain": [
       "<seaborn.axisgrid.PairGrid at 0x7f2f3e62d850>"
      ]
     },
     "execution_count": 138,
     "metadata": {},
     "output_type": "execute_result"
    },
    {
     "data": {
      "image/png": "[encoded data removed]",
      "text/plain": [
       "<Figure size 500x500 with 6 Axes>"
      ]
     },
     "metadata": {},
     "output_type": "display_data"
    }
   ],
   "source": [
    "sns.pairplot(tips[[\"total_bill\",\"tip\"]])"
   ]
  },
  {
   "cell_type": "markdown",
   "metadata": {},
   "source": [
    "### Постройте график взаимосвязи между признаками 'total_bill' и 'day'"
   ]
  },
  {
   "cell_type": "code",
   "execution_count": 139,
   "metadata": {},
   "outputs": [
    {
     "data": {
      "text/plain": [
       "<seaborn.axisgrid.FacetGrid at 0x7f2f3d3a9f10>"
      ]
     },
     "execution_count": 139,
     "metadata": {},
     "output_type": "execute_result"
    },
    {
     "data": {
      "image/png": "[encoded data removed]",
      "text/plain": [
       "<Figure size 500x500 with 1 Axes>"
      ]
     },
     "metadata": {},
     "output_type": "display_data"
    }
   ],
   "source": [
    "sns.catplot(x=\"day\",y=\"total_bill\",data=tips)"
   ]
  },
  {
   "cell_type": "markdown",
   "metadata": {},
   "source": [
    "### Постройте две гистограммы распределения признака 'tip' в зависимости от категорий 'time'"
   ]
  },
  {
   "cell_type": "code",
   "execution_count": 163,
   "metadata": {},
   "outputs": [
    {
     "name": "stdout",
     "output_type": "stream",
     "text": [
      "['Dinner', 'Lunch']\n"
     ]
    },
    {
     "data": {
      "image/png": "[encoded data removed]",
      "text/plain": [
       "<Figure size 640x480 with 1 Axes>"
      ]
     },
     "metadata": {},
     "output_type": "display_data"
    }
   ],
   "source": [
    "import matplotlib.pyplot as plt\n",
    "\n",
    "time_list = tips['time'].unique().tolist()\n",
    "print(time_list)\n",
    "\n",
    "color=['Green', 'Red', 'Yellow', 'Blue']\n",
    "\n",
    "for idx, x in enumerate(time_list):\n",
    "    sns.histplot(tips.tip[tips['time'] == x], label=x, color=color[idx])\n",
    "plt.legend()\n",
    "plt.show()"
   ]
  },
  {
   "cell_type": "markdown",
   "metadata": {},
   "source": [
    "### Постройте два графика scatterplot, представляющих взаимосвязь между признаками 'total_bill' и 'tip' один для Male, другой для Female и раскрасьте точки в зависимоти от признака 'smoker'"
   ]
  },
  {
   "cell_type": "code",
   "execution_count": 189,
   "metadata": {},
   "outputs": [
    {
     "data": {
      "text/plain": [
       "<AxesSubplot:xlabel='total_bill', ylabel='tip'>"
      ]
     },
     "execution_count": 189,
     "metadata": {},
     "output_type": "execute_result"
    },
    {
     "data": {
      "image/png": "[encoded data removed]",
      "text/plain": [
       "<Figure size 640x480 with 2 Axes>"
      ]
     },
     "metadata": {},
     "output_type": "display_data"
    },
    {
     "data": {
      "image/png": "[encoded data removed]",
      "text/plain": [
       "<Figure size 640x480 with 2 Axes>"
      ]
     },
     "metadata": {},
     "output_type": "display_data"
    }
   ],
   "source": [
    "tips = sns.load_dataset('tips')\n",
    "tips[\"smoker\"] = np.where(tips[\"smoker\"] == \"Yes\", 1 ,0) \n",
    "\n",
    "tips[tips['sex']==\"Male\"].plot.scatter(x='total_bill', y='tip', c='smoker', colormap='viridis')\n",
    "tips[tips['sex']==\"Female\"].plot.scatter(x='total_bill', y='tip', c='smoker', colormap='viridis')"
   ]
  },
  {
   "cell_type": "markdown",
   "metadata": {},
   "source": [
    "## Сделайте выводы по анализу датасета и построенным графикам. По желанию можете продолжить анализ данных и также отразить это в выводах."
   ]
  },
  {
   "cell_type": "code",
   "execution_count": null,
   "metadata": {},
   "outputs": [],
   "source": [
    "1. Распределение признака \"Общий счет\" близко к нормальному распределению\n",
    "2. Чем больше \"Общий счет\", тем больше \"Чаевые\"\n",
    "3. На выходных люди чаще посещают ресторан, а в пятницу гораздо реже\n",
    "4. Средние чаевые за обед и ужин примерно одинаковые, но вечером \"Общий счет\" выше, чем днем\n",
    "5. Количество мужчин, посещающих ресторан больше чем женщин. Количество курящих мужчин больше. \n",
    "    Не курящие мужчины оставляют больше чаевых и имеют больший общий чек, чем курящие."
   ]
  }
 ],
 "metadata": {
  "kernelspec": {
   "display_name": "Python 3 (ipykernel)",
   "language": "python",
   "name": "python3"
  },
  "language_info": {
   "codemirror_mode": {
    "name": "ipython",
    "version": 3
   },
   "file_extension": ".py",
   "mimetype": "text/x-python",
   "name": "python",
   "nbconvert_exporter": "python",
   "pygments_lexer": "ipython3",
   "version": "3.9.13"
  },
  "toc-autonumbering": false
 },
 "nbformat": 4,
 "nbformat_minor": 2
}
